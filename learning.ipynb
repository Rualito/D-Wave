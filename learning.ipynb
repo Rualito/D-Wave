{
 "cells": [
  {
   "cell_type": "code",
   "execution_count": 1,
   "metadata": {},
   "outputs": [],
   "source": [
    "from dwave.cloud import Client\n",
    "\n",
    "\n",
    "def read_token(file): #\n",
    "    f = open(file, 'r')\n",
    "    return f.read()\n",
    "\n",
    "API_TOKEN = read_token('api_token')\n",
    "\n",
    "client = Client.from_config(token=API_TOKEN)"
   ]
  },
  {
   "cell_type": "code",
   "execution_count": 2,
   "metadata": {},
   "outputs": [
    {
     "name": "stdout",
     "output_type": "stream",
     "text": [
      "{'anneal_offsets': ['parameters'], 'anneal_schedule': ['parameters'], 'annealing_time': ['parameters'], 'answer_mode': ['parameters'], 'auto_scale': ['parameters'], 'beta': ['parameters'], 'chains': ['parameters'], 'flux_biases': ['parameters'], 'flux_drift_compensation': ['parameters'], 'h_gain_schedule': ['parameters'], 'initial_state': ['parameters'], 'max_answers': ['parameters'], 'num_reads': ['parameters'], 'num_spin_reversal_transforms': ['parameters'], 'postprocess': ['parameters'], 'programming_thermalization': ['parameters'], 'readout_thermalization': ['parameters'], 'reduce_intersample_correlation': ['parameters'], 'reinitialize_state': ['parameters'], 'warnings': [], 'label': []}\n"
     ]
    }
   ],
   "source": [
    "from dwave.system import DWaveSampler\n",
    "\n",
    "sample = DWaveSampler(solver={'qpu':True})\n",
    "\n",
    "\n",
    "print(sample.parameters)"
   ]
  },
  {
   "cell_type": "markdown",
   "metadata": {},
   "source": [
    "# Multi-Gate\n",
    "https://docs.ocean.dwavesys.com/en/stable/examples/multi_gate.html"
   ]
  },
  {
   "cell_type": "code",
   "execution_count": 1,
   "metadata": {},
   "outputs": [
    {
     "name": "stdout",
     "output_type": "stream",
     "text": [
      "Defined Circuit\n",
      "Defined CSP, computing bqm\n",
      "Finished stitching\n"
     ]
    }
   ],
   "source": [
    "import dwavebinarycsp\n",
    "\n",
    "def logic_circuit(a,b,c,d, z):\n",
    "    # a,b,c,d are inputs\n",
    "    # z is output\n",
    "    not1 = not b\n",
    "    or2 = b or c\n",
    "    and3 = a and not1\n",
    "    or4 = or2 or d\n",
    "    and5 = and3 and or4\n",
    "    not6 = not or4\n",
    "    or7 = and5 or not6\n",
    "    return (z == or7)\n",
    "\n",
    "print(\"Defined Circuit\")\n",
    "# Constraint satisfaction problem\n",
    "csp = dwavebinarycsp.ConstraintSatisfactionProblem(dwavebinarycsp.BINARY)\n",
    "\n",
    "csp.add_constraint(logic_circuit, ['a', 'b', 'c', 'd', 'z'])\n",
    "print(\"Defined CSP, computing bqm\")\n",
    "\n",
    "\n",
    "# Binary Quadratic Model\n",
    "bqm = dwavebinarycsp.stitch(csp)\n",
    "print(\"Finished stitching\")"
   ]
  },
  {
   "cell_type": "code",
   "execution_count": 2,
   "metadata": {},
   "outputs": [
    {
     "data": {
      "text/plain": [
       "BinaryQuadraticModel({'a': 2.0, 'aux0': 0.0, 'aux1': 6.0, 'b': -2.0, 'c': 2.0, 'd': -2.0, 'z': -2.0}, {('aux0', 'a'): 0.0, ('aux1', 'a'): -4.0, ('aux1', 'aux0'): 2.0, ('b', 'a'): -2.0, ('b', 'aux0'): 4.0, ('b', 'aux1'): 4.0, ('c', 'a'): 0.0, ('c', 'aux0'): -4.0, ('c', 'aux1'): -2.0, ('c', 'b'): -2.0, ('d', 'a'): 0.0, ('d', 'aux0'): 2.0, ('d', 'aux1'): -2.0, ('d', 'b'): 2.0, ('d', 'c'): 0.0, ('z', 'a'): 0.0, ('z', 'aux0'): 4.0, ('z', 'aux1'): -4.0, ('z', 'b'): 4.0, ('z', 'c'): 0.0, ('z', 'd'): 4.0}, 2.0, 'BINARY')"
      ]
     },
     "execution_count": 2,
     "metadata": {},
     "output_type": "execute_result"
    }
   ],
   "source": [
    "bqm"
   ]
  },
  {
   "cell_type": "code",
   "execution_count": 3,
   "metadata": {},
   "outputs": [
    {
     "name": "stdout",
     "output_type": "stream",
     "text": [
      "Checking solutions\n",
      "959 41\n"
     ]
    }
   ],
   "source": [
    "from dwave.system import DWaveSampler, EmbeddingComposite\n",
    "\n",
    "# Set up a D-Wave system as the sampler\n",
    "sampler = EmbeddingComposite(DWaveSampler())\n",
    "\n",
    "\n",
    "sampleset = sampler.sample(bqm, num_reads=1000)\n",
    "\n",
    "# Check how many solutions meet the constraints (are valid)\n",
    "print(\"Checking solutions\")\n",
    "valid, invalid, data = 0, 0, []\n",
    "for datum in sampleset.data(['sample', 'energy', 'num_occurrences']):\n",
    "    # print(datum.sample)\n",
    "    if (csp.check(datum.sample)):\n",
    "        valid = valid+datum.num_occurrences\n",
    "        for i in range(datum.num_occurrences):\n",
    "            data.append((datum.sample, datum.energy, '1'))\n",
    "    else:\n",
    "        invalid = invalid+datum.num_occurrences\n",
    "        for i in range(datum.num_occurrences):\n",
    "            data.append((datum.sample, datum.energy, '0'))\n",
    "\n",
    "print(valid, invalid)        \n"
   ]
  },
  {
   "cell_type": "code",
   "execution_count": 4,
   "metadata": {},
   "outputs": [
    {
     "ename": "ValueError",
     "evalue": "invalid combination of arguments provided: if data capture not enabled, problem/response/solver have to be specified; also, make sure a structured problem is being inspected",
     "output_type": "error",
     "traceback": [
      "\u001b[0;31m---------------------------------------------------------------------------\u001b[0m",
      "\u001b[0;31mValueError\u001b[0m                                Traceback (most recent call last)",
      "\u001b[0;32m/tmp/ipykernel_342699/2760588891.py\u001b[0m in \u001b[0;36m<module>\u001b[0;34m\u001b[0m\n\u001b[1;32m      1\u001b[0m \u001b[0;32mimport\u001b[0m \u001b[0mdwave\u001b[0m\u001b[0;34m.\u001b[0m\u001b[0minspector\u001b[0m\u001b[0;34m\u001b[0m\u001b[0;34m\u001b[0m\u001b[0m\n\u001b[1;32m      2\u001b[0m \u001b[0;34m\u001b[0m\u001b[0m\n\u001b[0;32m----> 3\u001b[0;31m \u001b[0mdwave\u001b[0m\u001b[0;34m.\u001b[0m\u001b[0minspector\u001b[0m\u001b[0;34m.\u001b[0m\u001b[0mshow\u001b[0m\u001b[0;34m(\u001b[0m\u001b[0msampleset\u001b[0m\u001b[0;34m)\u001b[0m\u001b[0;34m\u001b[0m\u001b[0;34m\u001b[0m\u001b[0m\n\u001b[0m",
      "\u001b[0;32m~/.local/share/virtualenvs/D-Wave-yDYbMDAv/lib/python3.9/site-packages/dwave/inspector/__init__.py\u001b[0m in \u001b[0;36mshow\u001b[0;34m(*args, **kwargs)\u001b[0m\n\u001b[1;32m    179\u001b[0m     \u001b[0mblock\u001b[0m \u001b[0;34m=\u001b[0m \u001b[0mkwargs\u001b[0m\u001b[0;34m.\u001b[0m\u001b[0mpop\u001b[0m\u001b[0;34m(\u001b[0m\u001b[0;34m'block'\u001b[0m\u001b[0;34m,\u001b[0m \u001b[0mBlock\u001b[0m\u001b[0;34m.\u001b[0m\u001b[0mONCE\u001b[0m\u001b[0;34m)\u001b[0m\u001b[0;34m\u001b[0m\u001b[0;34m\u001b[0m\u001b[0m\n\u001b[1;32m    180\u001b[0m     \u001b[0mtimeout\u001b[0m \u001b[0;34m=\u001b[0m \u001b[0mkwargs\u001b[0m\u001b[0;34m.\u001b[0m\u001b[0mpop\u001b[0m\u001b[0;34m(\u001b[0m\u001b[0;34m'timeout'\u001b[0m\u001b[0;34m,\u001b[0m \u001b[0;32mNone\u001b[0m\u001b[0;34m)\u001b[0m\u001b[0;34m\u001b[0m\u001b[0;34m\u001b[0m\u001b[0m\n\u001b[0;32m--> 181\u001b[0;31m     \u001b[0mdata\u001b[0m \u001b[0;34m=\u001b[0m \u001b[0mfrom_objects\u001b[0m\u001b[0;34m(\u001b[0m\u001b[0;34m*\u001b[0m\u001b[0margs\u001b[0m\u001b[0;34m,\u001b[0m \u001b[0;34m**\u001b[0m\u001b[0mkwargs\u001b[0m\u001b[0;34m)\u001b[0m\u001b[0;34m\u001b[0m\u001b[0;34m\u001b[0m\u001b[0m\n\u001b[0m\u001b[1;32m    182\u001b[0m     \u001b[0mid_\u001b[0m \u001b[0;34m=\u001b[0m \u001b[0mpush_inspector_data\u001b[0m\u001b[0;34m(\u001b[0m\u001b[0mdata\u001b[0m\u001b[0;34m)\u001b[0m\u001b[0;34m\u001b[0m\u001b[0;34m\u001b[0m\u001b[0m\n\u001b[1;32m    183\u001b[0m     \u001b[0;32mreturn\u001b[0m \u001b[0mopen_problem\u001b[0m\u001b[0;34m(\u001b[0m\u001b[0mid_\u001b[0m\u001b[0;34m,\u001b[0m \u001b[0mblock\u001b[0m\u001b[0;34m=\u001b[0m\u001b[0mblock\u001b[0m\u001b[0;34m,\u001b[0m \u001b[0mtimeout\u001b[0m\u001b[0;34m=\u001b[0m\u001b[0mtimeout\u001b[0m\u001b[0;34m)\u001b[0m\u001b[0;34m\u001b[0m\u001b[0;34m\u001b[0m\u001b[0m\n",
      "\u001b[0;32m~/.local/share/virtualenvs/D-Wave-yDYbMDAv/lib/python3.9/site-packages/dwave/inspector/adapters.py\u001b[0m in \u001b[0;36mfrom_objects\u001b[0;34m(*args, **kwargs)\u001b[0m\n\u001b[1;32m    850\u001b[0m             embedding_context=embedding_context, warnings=warnings)\n\u001b[1;32m    851\u001b[0m \u001b[0;34m\u001b[0m\u001b[0m\n\u001b[0;32m--> 852\u001b[0;31m     raise ValueError(\n\u001b[0m\u001b[1;32m    853\u001b[0m         \u001b[0;34m\"invalid combination of arguments provided: if data capture not \"\u001b[0m\u001b[0;34m\u001b[0m\u001b[0;34m\u001b[0m\u001b[0m\n\u001b[1;32m    854\u001b[0m         \u001b[0;34m\"enabled, problem/response/solver have to be specified; \"\u001b[0m\u001b[0;34m\u001b[0m\u001b[0;34m\u001b[0m\u001b[0m\n",
      "\u001b[0;31mValueError\u001b[0m: invalid combination of arguments provided: if data capture not enabled, problem/response/solver have to be specified; also, make sure a structured problem is being inspected"
     ]
    }
   ],
   "source": [
    "import dwave.inspector\n",
    "\n",
    "dwave.inspector.show(sampleset)"
   ]
  },
  {
   "cell_type": "code",
   "execution_count": 6,
   "metadata": {},
   "outputs": [
    {
     "name": "stdout",
     "output_type": "stream",
     "text": [
      "True\n",
      "Opening in existing browser session.\n"
     ]
    },
    {
     "data": {
      "text/plain": [
       "'http://127.0.0.1:18001/?problemId=1bcf0175-5210-4aa2-91ec-5a34bceba979'"
      ]
     },
     "execution_count": 6,
     "metadata": {},
     "output_type": "execute_result"
    }
   ],
   "source": [
    "from dwave.system import DWaveSampler\n",
    "import dwave.inspector\n",
    "\n",
    "sampler = DWaveSampler(solver=dict(qpu=True))\n",
    "\n",
    "h = {}\n",
    "J = {(0, 4): 1, (0, 5): 1, (1, 4): 1, (1, 5): -1}\n",
    "\n",
    "print(all(edge in sampler.edgelist for edge in J))\n",
    "response = sampler.sample_ising(h, J, num_reads=100)\n",
    "\n",
    "dwave.inspector.show(response)   \n"
   ]
  },
  {
   "cell_type": "code",
   "execution_count": null,
   "metadata": {},
   "outputs": [],
   "source": []
  }
 ],
 "metadata": {
  "interpreter": {
   "hash": "cc2426f00f8ba169e352caffff223797fd0209093787ee6a8f03311476cdb0a5"
  },
  "kernelspec": {
   "display_name": "Python 3.9.7 64-bit ('D-Wave-yDYbMDAv': pipenv)",
   "name": "python3"
  },
  "language_info": {
   "codemirror_mode": {
    "name": "ipython",
    "version": 3
   },
   "file_extension": ".py",
   "mimetype": "text/x-python",
   "name": "python",
   "nbconvert_exporter": "python",
   "pygments_lexer": "ipython3",
   "version": "3.9.7"
  },
  "orig_nbformat": 4
 },
 "nbformat": 4,
 "nbformat_minor": 2
}
