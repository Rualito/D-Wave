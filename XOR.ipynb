{
 "cells": [
  {
   "cell_type": "code",
   "execution_count": 17,
   "metadata": {},
   "outputs": [],
   "source": [
    "import dwavebinarycsp\n",
    "from dwave.system import DWaveSampler, EmbeddingComposite\n",
    "import dwave.inspector\n"
   ]
  },
  {
   "cell_type": "markdown",
   "metadata": {},
   "source": [
    "# Defining the logic circuit"
   ]
  },
  {
   "cell_type": "code",
   "execution_count": 23,
   "metadata": {},
   "outputs": [
    {
     "name": "stdout",
     "output_type": "stream",
     "text": [
      "----------\n",
      "Logic table\n",
      "a b z  V?\n",
      "0 0 0 True\n",
      "0 0 1 False\n",
      "0 1 0 False\n",
      "0 1 1 True\n",
      "1 0 0 False\n",
      "1 0 1 True\n",
      "1 1 0 True\n",
      "1 1 1 False\n",
      "----------\n",
      "Computing Binary Quadratic Model\n",
      "Finished stitching\n",
      "BinaryQuadraticModel({'a': 2.0, 'aux0': 4.0, 'aux1': 4.0, 'b': 2.0, 'z': 2.0}, {('aux0', 'a'): -4.0, ('aux1', 'a'): -4.0, ('aux1', 'aux0'): 0.0, ('b', 'a'): 4.0, ('b', 'aux0'): -4.0, ('b', 'aux1'): -4.0, ('z', 'a'): -4.0, ('z', 'aux0'): 4.0, ('z', 'aux1'): 4.0, ('z', 'b'): -4.0}, 0.0, 'BINARY')\n"
     ]
    }
   ],
   "source": [
    "def xor_circuit(a,b, z):\n",
    "    return (((not a) and b) or ((not b) and a))==z\n",
    "\n",
    "# Constraint satisfaction problem\n",
    "csp = dwavebinarycsp.ConstraintSatisfactionProblem(dwavebinarycsp.BINARY)\n",
    "\n",
    "csp.add_constraint(xor_circuit, ['a', 'b', 'z'])\n",
    "print(\"----------\")\n",
    "\n",
    "print(\"Logic table\")\n",
    "print(\"a b z  V?\")\n",
    "for a in [0,1]:\n",
    "    for b in [0, 1]:\n",
    "        for z in [0,1]:\n",
    "            print(f\"{a} {b} {z} {csp.check({'a':a, 'b':b, 'z':z})}\")\n",
    "\n",
    "print(\"----------\")\n",
    "print(\"Computing Binary Quadratic Model\")\n",
    "# Binary Quadratic Model\n",
    "bqm = dwavebinarycsp.stitch(csp)\n",
    "# https://github.com/dwavesystems/dwavebinarycsp/blob/master/dwavebinarycsp/compilers/stitcher.py\n",
    "print(\"Finished stitching\")\n",
    "\n",
    "print(bqm)"
   ]
  },
  {
   "cell_type": "code",
   "execution_count": 24,
   "metadata": {},
   "outputs": [
    {
     "name": "stdout",
     "output_type": "stream",
     "text": [
      "Checking solutions\n",
      "88 12\n"
     ]
    }
   ],
   "source": [
    "# Set up a D-Wave system as the sampler\n",
    "sampler = EmbeddingComposite(DWaveSampler())\n",
    "\n",
    "print()\n",
    "sampleset = sampler.sample(bqm, num_reads=100, label=\"XOR test\")\n",
    "\n",
    "# Check how many solutions meet the constraints (are valid)\n",
    "print(\"Checking solutions\")\n",
    "valid, invalid, data = 0, 0, []\n",
    "for datum in sampleset.data(['sample', 'energy', 'num_occurrences']):\n",
    "    # print(datum.sample)\n",
    "    if (csp.check(datum.sample)):\n",
    "        valid = valid+datum.num_occurrences\n",
    "        for i in range(datum.num_occurrences):\n",
    "            data.append((datum.sample, datum.energy, '1'))\n",
    "    else:\n",
    "        invalid = invalid+datum.num_occurrences\n",
    "        #print(f\"Failed: {datum.sample} {datum.energy}\")\n",
    "        for i in range(datum.num_occurrences):\n",
    "            data.append((datum.sample, datum.energy, '0'))\n",
    "\n",
    "print(valid, invalid)        \n"
   ]
  },
  {
   "cell_type": "code",
   "execution_count": 26,
   "metadata": {},
   "outputs": [
    {
     "data": {
      "text/plain": [
       "{'timing': {'qpu_sampling_time': 13366.0,\n",
       "  'qpu_anneal_time_per_sample': 20.0,\n",
       "  'qpu_readout_time_per_sample': 93.12,\n",
       "  'qpu_access_time': 21813.4,\n",
       "  'qpu_access_overhead_time': 9519.6,\n",
       "  'qpu_programming_time': 8447.4,\n",
       "  'qpu_delay_time_per_sample': 20.54,\n",
       "  'post_processing_overhead_time': 308.0,\n",
       "  'total_post_processing_time': 308.0},\n",
       " 'problem_id': '310336b3-85cd-41ad-aff7-db2bef892ab4',\n",
       " 'problem_label': 'XOR test',\n",
       " 'embedding_context': {'embedding': {'aux0': (943,),\n",
       "   'a': (5359,),\n",
       "   'aux1': (958,),\n",
       "   'b': (5344,),\n",
       "   'z': (5285, 1017)},\n",
       "  'chain_break_method': 'majority_vote',\n",
       "  'embedding_parameters': {},\n",
       "  'chain_strength': 2.6828763668868527},\n",
       " 'warnings': [{'type': dwave.system.warnings.ChainStrengthWarning,\n",
       "   'message': 'Some quadratic biases are stronger than the given chain strength',\n",
       "   'level': 30,\n",
       "   'data': {'source_interactions': [('aux0', 'a'),\n",
       "     ('aux1', 'a'),\n",
       "     ('b', 'a'),\n",
       "     ('b', 'aux0'),\n",
       "     ('b', 'aux1'),\n",
       "     ('z', 'a'),\n",
       "     ('z', 'aux0'),\n",
       "     ('z', 'aux1'),\n",
       "     ('z', 'b')]}}]}"
      ]
     },
     "execution_count": 26,
     "metadata": {},
     "output_type": "execute_result"
    }
   ],
   "source": [
    "sampleset.info"
   ]
  },
  {
   "cell_type": "code",
   "execution_count": 27,
   "metadata": {},
   "outputs": [
    {
     "name": "stdout",
     "output_type": "stream",
     "text": [
      "Opening in existing browser session.\n"
     ]
    },
    {
     "data": {
      "text/plain": [
       "'http://127.0.0.1:18002/?problemId=310336b3-85cd-41ad-aff7-db2bef892ab4'"
      ]
     },
     "execution_count": 27,
     "metadata": {},
     "output_type": "execute_result"
    }
   ],
   "source": [
    "dwave.inspector.show(sampleset)\n",
    "\n",
    "# Weak chain strength?"
   ]
  },
  {
   "cell_type": "code",
   "execution_count": null,
   "metadata": {},
   "outputs": [],
   "source": []
  }
 ],
 "metadata": {
  "interpreter": {
   "hash": "cc2426f00f8ba169e352caffff223797fd0209093787ee6a8f03311476cdb0a5"
  },
  "kernelspec": {
   "display_name": "Python 3.9.7 64-bit ('D-Wave-yDYbMDAv': pipenv)",
   "name": "python3"
  },
  "language_info": {
   "codemirror_mode": {
    "name": "ipython",
    "version": 3
   },
   "file_extension": ".py",
   "mimetype": "text/x-python",
   "name": "python",
   "nbconvert_exporter": "python",
   "pygments_lexer": "ipython3",
   "version": "3.9.7"
  },
  "orig_nbformat": 4
 },
 "nbformat": 4,
 "nbformat_minor": 2
}
